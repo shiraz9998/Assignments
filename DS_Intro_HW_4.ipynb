{
 "cells": [
  {
   "cell_type": "code",
   "execution_count": 1,
   "id": "314f1845",
   "metadata": {},
   "outputs": [
    {
     "name": "stdout",
     "output_type": "stream",
     "text": [
      "<_io.TextIOWrapper name='C:/Users/WIN10/OneDrive/שולחן העבודה/WIN10/data science projects/Assignments/dests.txt' mode='r' encoding='cp1255'>\n",
      "{'İstanbul': ('1,809 km', '20 hours 42 mins', 28.9783589, 41.0082376), 'Amsterdam': ('4,528 km', '2 days 0 hours', 4.9041389, 52.3675734), 'Valletta': ('3,783 km', '2 days 2 hours', 14.5145528, 35.8989085), 'Basel': ('4,091 km', '1 day 20 hours', 7.5885761, 47.5595986), 'Doha': ('2,104 km', '21 hours 51 mins', 51.53103979999999, 25.2854473)}\n"
     ]
    }
   ],
   "source": [
    "#shiraz yeshayahu \n",
    "import requests\n",
    "import json\n",
    "import pandas as pd\n",
    "\n",
    "fhand = open('C:/Users/WIN10/OneDrive/שולחן העבודה/WIN10/data science projects/Assignments/dests.txt')\n",
    "print(fhand)\n",
    "lis = list()\n",
    "dic = dict()\n",
    "final_dic = dict()\n",
    "\n",
    "\n",
    "try:\n",
    "    for line in fhand:\n",
    "        destinations = line\n",
    "        address = line\n",
    "        origins = 'Jerusalem'\n",
    "        api_key = 'your_api'\n",
    "        url_distance = 'https://maps.googleapis.com/maps/api/distancematrix/json?destinations=%s&origins=%s&key=%s' % (destinations, origins, api_key)\n",
    "        url_geocode  = 'https://maps.googleapis.com/maps/api/geocode/json?address=%s&key=%s' % (address, api_key)\n",
    "\n",
    "        response_distance = requests.get(url_distance)\n",
    "        response_geocode = requests.get(url_geocode)\n",
    "\n",
    "        if not  (response_distance.status_code == 200) and (response_geocode.status_code == 200):\n",
    "            print(\"HTTP error\", response.status_code)\n",
    "\n",
    "        else:\n",
    "            response_distance = requests.get(url_distance).json() \n",
    "            response_geocode = requests.get(url_geocode).json()   \n",
    "            response_distance\n",
    "            response_geocode\n",
    "            dic_key = response_geocode['results'][0]['address_components'][0]['long_name']\n",
    "            lis.append(response_distance['rows'][0]['elements'][0]['distance']['text'])\n",
    "            lis.append( response_distance['rows'][0]['elements'][0]['duration']['text'] )\n",
    "            lis.append(response_geocode['results'][0]['geometry']['location']['lng'])\n",
    "            lis.append(response_geocode['results'][0]['geometry']['location']['lat'])\n",
    "            dic[dic_key] = tuple(lis)\n",
    "            lis = list()\n",
    "    print(dic)\n",
    "                    \n",
    "except:\n",
    "    print(\"somting went wrong with requests.get or response not in valid JSON format\")\n",
    "                \n"
   ]
  },
  {
   "cell_type": "code",
   "execution_count": 2,
   "id": "e43a3247",
   "metadata": {},
   "outputs": [
    {
     "name": "stdout",
     "output_type": "stream",
     "text": [
      "           İstanbul       Amsterdam        Valletta           Basel  \\\n",
      "0          1,809 km        4,528 km        3,783 km        4,091 km   \n",
      "1  20 hours 42 mins  2 days 0 hours  2 days 2 hours  1 day 20 hours   \n",
      "2         28.978359        4.904139       14.514553        7.588576   \n",
      "3         41.008238       52.367573       35.898908       47.559599   \n",
      "\n",
      "               Doha  \n",
      "0          2,104 km  \n",
      "1  21 hours 51 mins  \n",
      "2          51.53104  \n",
      "3         25.285447  \n"
     ]
    }
   ],
   "source": [
    "print(pd.DataFrame(dic))"
   ]
  },
  {
   "cell_type": "code",
   "execution_count": 3,
   "id": "38f611bd",
   "metadata": {},
   "outputs": [
    {
     "name": "stdout",
     "output_type": "stream",
     "text": [
      "['Amsterdam', 'Basel', 'Valletta']\n"
     ]
    }
   ],
   "source": [
    "import operator\n",
    "sorted_tuples = sorted(dic.items(), reverse=True, key=operator.itemgetter(1))\n",
    "sorted_dict = {k: v for k, v in sorted_tuples}\n",
    "cities_furthest = list(sorted_dict.keys())\n",
    "print(cities_furthest[:3])"
   ]
  }
 ],
 "metadata": {
  "celltoolbar": "Raw Cell Format",
  "kernelspec": {
   "display_name": "Python 3 (ipykernel)",
   "language": "python",
   "name": "python3"
  },
  "language_info": {
   "codemirror_mode": {
    "name": "ipython",
    "version": 3
   },
   "file_extension": ".py",
   "mimetype": "text/x-python",
   "name": "python",
   "nbconvert_exporter": "python",
   "pygments_lexer": "ipython3",
   "version": "3.7.1"
  }
 },
 "nbformat": 4,
 "nbformat_minor": 5
}
